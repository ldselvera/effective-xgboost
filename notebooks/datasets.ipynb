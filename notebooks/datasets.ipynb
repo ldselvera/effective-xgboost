{
 "cells": [
  {
   "cell_type": "code",
   "execution_count": 4,
   "id": "0aa37dab-0a11-4c27-a5b4-a6f1bcc3515b",
   "metadata": {},
   "outputs": [],
   "source": [
    "import pandas as pd\n",
    "\n",
    "import urllib.request\n",
    "import zipfile"
   ]
  },
  {
   "cell_type": "code",
   "execution_count": 5,
   "id": "83e7ebcb-ad9d-42ed-b12c-fb23bda4b1d7",
   "metadata": {},
   "outputs": [],
   "source": [
    "url = 'https://github.com/mattharrison/datasets/raw/master/data/'\\\n",
    "    'kaggle-survey-2018.zip'\n",
    "fname = '../data/kaggle-survey-2018.zip'\n",
    "member_name = 'multipleChoiceResponses.csv'"
   ]
  },
  {
   "cell_type": "code",
   "execution_count": 6,
   "id": "f6bfc697-3fcd-45d9-bda5-f07c3bd92479",
   "metadata": {},
   "outputs": [],
   "source": [
    "def extract_zip(src, dst, member_name):\n",
    "    \"\"\"Extract a member file from a zip file and read it into a pandas \n",
    "    DataFrame.\n",
    "    \n",
    "    Parameters:\n",
    "        src (str): URL of the zip file to be downloaded and extracted.\n",
    "        dst (str): Local file path where the zip file will be written.\n",
    "        member_name (str): Name of the member file inside the zip file \n",
    "            to be read into a DataFrame.\n",
    "    \n",
    "    Returns:\n",
    "        pandas.DataFrame: DataFrame containing the contents of the \n",
    "            member file.\n",
    "    \"\"\"    \n",
    "    url = src\n",
    "    fname = dst\n",
    "    fin = urllib.request.urlopen(url)\n",
    "    data = fin.read()\n",
    "    with open(dst, mode='wb') as fout:\n",
    "        fout.write(data)\n",
    "    with zipfile.ZipFile(dst) as z:\n",
    "        kag = pd.read_csv(z.open(member_name))\n",
    "        kag_questions = kag.iloc[0]\n",
    "        raw = kag.iloc[1:]\n",
    "        return raw"
   ]
  },
  {
   "cell_type": "code",
   "execution_count": 7,
   "id": "fdf9c08f-e79d-4e6e-a527-9aa999c050d0",
   "metadata": {},
   "outputs": [
    {
     "name": "stderr",
     "output_type": "stream",
     "text": [
      "/tmp/ipykernel_970/1222519436.py:22: DtypeWarning: Columns (0,2,8,10,21,23,24,25,26,27,28,42,44,54,56,64,81,83,85,87,105,107,109,121,123,125,148,150,157,172,174,192,194,210,218,219,221,223,246,247,249,262,264,276,277,278,279,280,281,282,283,284,285,286,287,288,289,290,302,304,306,325,326,329,341,368,371,384,385,389,390,391,393,394) have mixed types. Specify dtype option on import or set low_memory=False.\n",
      "  kag = pd.read_csv(z.open(member_name))\n"
     ]
    }
   ],
   "source": [
    "raw = extract_zip(url, fname, member_name)"
   ]
  },
  {
   "cell_type": "code",
   "execution_count": null,
   "id": "803d5f54-a483-4788-ba47-2524555179e7",
   "metadata": {},
   "outputs": [],
   "source": []
  }
 ],
 "metadata": {
  "kernelspec": {
   "display_name": "Python 3 (ipykernel)",
   "language": "python",
   "name": "python3"
  },
  "language_info": {
   "codemirror_mode": {
    "name": "ipython",
    "version": 3
   },
   "file_extension": ".py",
   "mimetype": "text/x-python",
   "name": "python",
   "nbconvert_exporter": "python",
   "pygments_lexer": "ipython3",
   "version": "3.11.7"
  }
 },
 "nbformat": 4,
 "nbformat_minor": 5
}
