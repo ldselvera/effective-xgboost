{
 "cells": [
  {
   "cell_type": "code",
   "execution_count": 2,
   "id": "8e0b4648-d2c1-490c-804d-2dbd1bd4da73",
   "metadata": {},
   "outputs": [
    {
     "name": "stdout",
     "output_type": "stream",
     "text": [
      "\u001b[33mWARNING: Retrying (Retry(total=4, connect=None, read=None, redirect=None, status=None)) after connection broken by 'NewConnectionError('<pip._vendor.urllib3.connection.HTTPSConnection object at 0x7feeb6a61510>: Failed to establish a new connection: [Errno -3] Temporary failure in name resolution')': /simple/feature-engine/\u001b[0m\u001b[33m\n",
      "\u001b[0mCollecting feature_engine\n",
      "  Downloading feature_engine-1.8.0-py2.py3-none-any.whl.metadata (9.8 kB)\n",
      "Requirement already satisfied: numpy>=1.18.2 in /home/lselvera/anaconda3/lib/python3.11/site-packages (from feature_engine) (1.26.4)\n",
      "Collecting pandas>=2.2.0 (from feature_engine)\n",
      "  Downloading pandas-2.2.2-cp311-cp311-manylinux_2_17_x86_64.manylinux2014_x86_64.whl.metadata (19 kB)\n",
      "Collecting scikit-learn>=1.4.0 (from feature_engine)\n",
      "  Downloading scikit_learn-1.5.0-cp311-cp311-manylinux_2_17_x86_64.manylinux2014_x86_64.whl.metadata (11 kB)\n",
      "Requirement already satisfied: scipy>=1.4.1 in /home/lselvera/anaconda3/lib/python3.11/site-packages (from feature_engine) (1.11.4)\n",
      "Requirement already satisfied: statsmodels>=0.11.1 in /home/lselvera/anaconda3/lib/python3.11/site-packages (from feature_engine) (0.14.0)\n",
      "Requirement already satisfied: python-dateutil>=2.8.2 in /home/lselvera/anaconda3/lib/python3.11/site-packages (from pandas>=2.2.0->feature_engine) (2.8.2)\n",
      "Requirement already satisfied: pytz>=2020.1 in /home/lselvera/anaconda3/lib/python3.11/site-packages (from pandas>=2.2.0->feature_engine) (2023.3.post1)\n",
      "Requirement already satisfied: tzdata>=2022.7 in /home/lselvera/anaconda3/lib/python3.11/site-packages (from pandas>=2.2.0->feature_engine) (2023.3)\n",
      "Requirement already satisfied: joblib>=1.2.0 in /home/lselvera/anaconda3/lib/python3.11/site-packages (from scikit-learn>=1.4.0->feature_engine) (1.2.0)\n",
      "Collecting threadpoolctl>=3.1.0 (from scikit-learn>=1.4.0->feature_engine)\n",
      "  Downloading threadpoolctl-3.5.0-py3-none-any.whl.metadata (13 kB)\n",
      "Requirement already satisfied: patsy>=0.5.2 in /home/lselvera/anaconda3/lib/python3.11/site-packages (from statsmodels>=0.11.1->feature_engine) (0.5.3)\n",
      "Requirement already satisfied: packaging>=21.3 in /home/lselvera/anaconda3/lib/python3.11/site-packages (from statsmodels>=0.11.1->feature_engine) (23.1)\n",
      "Requirement already satisfied: six in /home/lselvera/anaconda3/lib/python3.11/site-packages (from patsy>=0.5.2->statsmodels>=0.11.1->feature_engine) (1.16.0)\n",
      "Downloading feature_engine-1.8.0-py2.py3-none-any.whl (357 kB)\n",
      "\u001b[2K   \u001b[90m━━━━━━━━━━━━━━━━━━━━━━━━━━━━━━━━━━━━━━━━\u001b[0m \u001b[32m357.1/357.1 kB\u001b[0m \u001b[31m1.6 MB/s\u001b[0m eta \u001b[36m0:00:00\u001b[0ma \u001b[36m0:00:01\u001b[0mm\n",
      "\u001b[?25hDownloading pandas-2.2.2-cp311-cp311-manylinux_2_17_x86_64.manylinux2014_x86_64.whl (13.0 MB)\n",
      "\u001b[2K   \u001b[90m━━━━━━━━━━━━━━━━━━━━━━━━━━━━━━━━━━━━━━━━\u001b[0m \u001b[32m13.0/13.0 MB\u001b[0m \u001b[31m42.5 MB/s\u001b[0m eta \u001b[36m0:00:00\u001b[0m00:01\u001b[0m00:01\u001b[0m\n",
      "\u001b[?25hDownloading scikit_learn-1.5.0-cp311-cp311-manylinux_2_17_x86_64.manylinux2014_x86_64.whl (13.3 MB)\n",
      "\u001b[2K   \u001b[90m━━━━━━━━━━━━━━━━━━━━━━━━━━━━━━━━━━━━━━━━\u001b[0m \u001b[32m13.3/13.3 MB\u001b[0m \u001b[31m21.6 MB/s\u001b[0m eta \u001b[36m0:00:00\u001b[0m00:01\u001b[0m00:01\u001b[0m\n",
      "\u001b[?25hDownloading threadpoolctl-3.5.0-py3-none-any.whl (18 kB)\n",
      "Installing collected packages: threadpoolctl, scikit-learn, pandas, feature_engine\n",
      "  Attempting uninstall: threadpoolctl\n",
      "    Found existing installation: threadpoolctl 2.2.0\n",
      "    Uninstalling threadpoolctl-2.2.0:\n",
      "      Successfully uninstalled threadpoolctl-2.2.0\n",
      "  Attempting uninstall: scikit-learn\n",
      "    Found existing installation: scikit-learn 1.2.2\n",
      "    Uninstalling scikit-learn-1.2.2:\n",
      "      Successfully uninstalled scikit-learn-1.2.2\n",
      "  Attempting uninstall: pandas\n",
      "    Found existing installation: pandas 2.1.4\n",
      "    Uninstalling pandas-2.1.4:\n",
      "      Successfully uninstalled pandas-2.1.4\n",
      "Successfully installed feature_engine-1.8.0 pandas-2.2.2 scikit-learn-1.5.0 threadpoolctl-3.5.0\n"
     ]
    }
   ],
   "source": [
    "!pip install feature_engine"
   ]
  },
  {
   "cell_type": "code",
   "execution_count": 5,
   "id": "27523ec1-1fef-4ee9-a43d-6b0b64fa3e5b",
   "metadata": {},
   "outputs": [],
   "source": []
  },
  {
   "cell_type": "code",
   "execution_count": 6,
   "id": "52c0384a-0abe-4f58-a722-2e754d5ca635",
   "metadata": {},
   "outputs": [],
   "source": []
  },
  {
   "cell_type": "code",
   "execution_count": 7,
   "id": "7a8e7aea-d741-4198-aec0-2c2d200a555d",
   "metadata": {},
   "outputs": [],
   "source": []
  },
  {
   "cell_type": "code",
   "execution_count": null,
   "id": "db15e92a-8b93-498a-af05-60d6373deb05",
   "metadata": {},
   "outputs": [],
   "source": []
  }
 ],
 "metadata": {
  "kernelspec": {
   "display_name": "Python 3 (ipykernel)",
   "language": "python",
   "name": "python3"
  },
  "language_info": {
   "codemirror_mode": {
    "name": "ipython",
    "version": 3
   },
   "file_extension": ".py",
   "mimetype": "text/x-python",
   "name": "python",
   "nbconvert_exporter": "python",
   "pygments_lexer": "ipython3",
   "version": "3.11.7"
  }
 },
 "nbformat": 4,
 "nbformat_minor": 5
}
